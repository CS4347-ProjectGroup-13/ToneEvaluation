{
 "cells": [
  {
   "cell_type": "code",
   "execution_count": null,
   "metadata": {},
   "outputs": [],
   "source": [
    " from transformers import Wav2Vec2Processor, Wav2Vec2ForCTC\n",
    " from datasets import load_dataset\n",
    " import torch\n",
    " \n",
    " # load model and processor\n",
    " processor = Wav2Vec2Processor.from_pretrained(\"facebook/wav2vec2-lv-60-espeak-cv-ft\")\n",
    " model = Wav2Vec2ForCTC.from_pretrained(\"facebook/wav2vec2-lv-60-espeak-cv-ft\")\n",
    "     \n",
    " # load dummy dataset and read soundfiles\n",
    " ds = load_dataset(\"patrickvonplaten/librispeech_asr_dummy\", \"clean\", split=\"validation\")\n",
    " \n",
    " # tokenize\n",
    " input_values = processor(ds[0][\"audio\"][\"array\"], return_tensors=\"pt\").input_values\n",
    " \n",
    " # retrieve logits\n",
    " with torch.no_grad():\n",
    "   logits = model(input_values).logits\n",
    " \n",
    " # take argmax and decode\n",
    " predicted_ids_softmax = torch.softmax(logits, dim=-1)\n",
    " predicted_ids = torch.argmax(logits, dim=-1)\n",
    "\n",
    " transcription = processor.batch_decode(predicted_ids)"
   ]
  },
  {
   "cell_type": "code",
   "execution_count": null,
   "metadata": {},
   "outputs": [],
   "source": [
    "import matplotlib.pyplot as plt\n",
    "emission = predicted_ids_softmax[0][:, 0:1].cpu().detach()\n",
    "print(emission[0].shape)\n",
    "def plot():\n",
    "    fig, ax = plt.subplots()\n",
    "    img = ax.imshow(emission.T)\n",
    "    ax.set_title(\"Frame-wise class probability\")\n",
    "    ax.set_xlabel(\"Time\")\n",
    "    ax.set_ylabel(\"Labels\")\n",
    "    fig.tight_layout()\n",
    "\n",
    "\n",
    "plot()"
   ]
  },
  {
   "cell_type": "code",
   "execution_count": null,
   "metadata": {},
   "outputs": [],
   "source": [
    "covab = processor.tokenizer.get_vocab()\n",
    "vocabInverse = {x:y for y,x in covab.items() }\n",
    "print(predicted_ids[0])\n",
    "covab\n",
    "# [vocabInverse[x] for x in predicted_ids[0].tolist()]"
   ]
  },
  {
   "cell_type": "code",
   "execution_count": null,
   "metadata": {},
   "outputs": [],
   "source": [
    "def plot():\n",
    "    fig, ax = plt.subplots()\n",
    "    img = ax.imshow(emission.T)\n",
    "    ax.set_title(\"Frame-wise class probability\")\n",
    "    ax.set_xlabel(\"Time\")\n",
    "    ax.set_ylabel(\"Labels\")\n",
    "    fig.colorbar(img, ax=ax, shrink=0.6, location=\"bottom\")\n",
    "    fig.tight_layout()\n",
    "\n",
    "\n",
    "plot()"
   ]
  }
 ],
 "metadata": {
  "language_info": {
   "codemirror_mode": {
    "name": "ipython",
    "version": 3
   },
   "file_extension": ".py",
   "mimetype": "text/x-python",
   "name": "python",
   "nbconvert_exporter": "python",
   "pygments_lexer": "ipython3",
   "version": "3.9.18"
  }
 },
 "nbformat": 4,
 "nbformat_minor": 2
}
