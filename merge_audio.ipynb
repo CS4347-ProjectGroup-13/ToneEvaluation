{
 "cells": [
  {
   "cell_type": "code",
   "execution_count": null,
   "metadata": {},
   "outputs": [],
   "source": [
    "from pydub import AudioSegment\n",
    "import librosa\n",
    "import os\n",
    "import re\n",
    "\n",
    "\n",
    "def remove_extension(file_path):\n",
    "    root, extension = os.path.splitext(file_path)\n",
    "    return root\n",
    "\n",
    "def merge_audio_and_label(path1, path2):\n",
    "    \"\"\"returns label and path to merged audio\n",
    "    label of type dictionary\n",
    "    key: path to merged audio\n",
    "    value: list of tuples. tuple(tone, start time in seconds, end time in seconds)\n",
    "    \"\"\"\n",
    "    label = {}\n",
    "\n",
    "    audio1 = AudioSegment.from_mp3(path1)\n",
    "    audio2 = AudioSegment.from_mp3(path2)\n",
    "    merged_audio = audio1 + audio2\n",
    "    new_path = remove_extension(path1) + '_' + remove_extension(path2) + '.mp3'\n",
    "    merged_audio.export(new_path, format='mp3')\n",
    "\n",
    "    tone1 = str(re.search(r'\\d', path1).group())\n",
    "    tone2 = str(re.search(r'\\d', path2).group())\n",
    "    label[new_path] =[]\n",
    "    label[new_path].append((tone1, 0, audio1.duration_seconds))\n",
    "    label[new_path].append((tone2, audio1.duration_seconds, audio2.duration_seconds))\n",
    "\n",
    "\n",
    "    return label\n",
    "\n",
    "\n",
    "\n",
    "#    duration1 = librosa.get_duration(filename=path1)\n",
    "#    duration2 = librosa.get_duration(filename=path2)"
   ]
  },
  {
   "cell_type": "code",
   "execution_count": null,
   "metadata": {},
   "outputs": [],
   "source": [
    "x = \"a1_FV1_MP3.mp3\"\n",
    "y = \"a4_FV2_MP3.mp3\"\n",
    "\n",
    "merge_audio_and_label(x, y)"
   ]
  }
 ],
 "metadata": {
  "language_info": {
   "codemirror_mode": {
    "name": "ipython",
    "version": 3
   },
   "file_extension": ".py",
   "mimetype": "text/x-python",
   "name": "python",
   "nbconvert_exporter": "python",
   "pygments_lexer": "ipython3",
   "version": "3.9.18"
  }
 },
 "nbformat": 4,
 "nbformat_minor": 2
}
